{
 "cells": [
  {
   "cell_type": "markdown",
   "id": "2ee75ffa",
   "metadata": {},
   "source": [
    "### 🔵 데이터 정보 확인"
   ]
  },
  {
   "cell_type": "code",
   "execution_count": 1,
   "id": "e450bc81",
   "metadata": {},
   "outputs": [],
   "source": [
    "import pandas as pd"
   ]
  },
  {
   "cell_type": "code",
   "execution_count": 2,
   "id": "ab5b7208",
   "metadata": {},
   "outputs": [],
   "source": [
    "df1 = pd.read_csv(\"./Data01.csv\")"
   ]
  },
  {
   "cell_type": "code",
   "execution_count": 3,
   "id": "6d604f16",
   "metadata": {},
   "outputs": [
    {
     "data": {
      "text/plain": [
       "RangeIndex(start=0, stop=6519, step=1)"
      ]
     },
     "execution_count": 3,
     "metadata": {},
     "output_type": "execute_result"
    }
   ],
   "source": [
    "df1.index # 데이터의 순서 index"
   ]
  },
  {
   "cell_type": "code",
   "execution_count": 4,
   "id": "3954c12c",
   "metadata": {},
   "outputs": [
    {
     "data": {
      "text/plain": [
       "Index(['회원번호', '조합원상태', '주소-구', '주소-동', '성별', '연령', '연령대', '총구매금액', '총구매수량',\n",
       "       '1회방문시구매금액(평균)', '배송서비스신청여부', '모바일알람여부', 'Gold_member'],\n",
       "      dtype='object')"
      ]
     },
     "execution_count": 4,
     "metadata": {},
     "output_type": "execute_result"
    }
   ],
   "source": [
    "df1.columns # 데이터의 항목 column"
   ]
  },
  {
   "cell_type": "code",
   "execution_count": 5,
   "id": "d2693d9d",
   "metadata": {},
   "outputs": [
    {
     "name": "stdout",
     "output_type": "stream",
     "text": [
      "<class 'pandas.core.frame.DataFrame'>\n",
      "RangeIndex: 6519 entries, 0 to 6518\n",
      "Data columns (total 13 columns):\n",
      " #   Column         Non-Null Count  Dtype  \n",
      "---  ------         --------------  -----  \n",
      " 0   회원번호           6519 non-null   int64  \n",
      " 1   조합원상태          6519 non-null   object \n",
      " 2   주소-구           6519 non-null   object \n",
      " 3   주소-동           6519 non-null   object \n",
      " 4   성별             6518 non-null   object \n",
      " 5   연령             6518 non-null   float64\n",
      " 6   연령대            6518 non-null   object \n",
      " 7   총구매금액          6519 non-null   int64  \n",
      " 8   총구매수량          6519 non-null   float64\n",
      " 9   1회방문시구매금액(평균)  6519 non-null   int64  \n",
      " 10  배송서비스신청여부      6519 non-null   object \n",
      " 11  모바일알람여부        6519 non-null   object \n",
      " 12  Gold_member    6519 non-null   object \n",
      "dtypes: float64(2), int64(3), object(8)\n",
      "memory usage: 662.2+ KB\n"
     ]
    }
   ],
   "source": [
    "df1.info() # 데이터의 타입 확인 -> 어떤 분석이 가능할지 살펴 봄"
   ]
  },
  {
   "cell_type": "code",
   "execution_count": 6,
   "id": "c51e4722",
   "metadata": {},
   "outputs": [
    {
     "data": {
      "text/html": [
       "<div>\n",
       "<style scoped>\n",
       "    .dataframe tbody tr th:only-of-type {\n",
       "        vertical-align: middle;\n",
       "    }\n",
       "\n",
       "    .dataframe tbody tr th {\n",
       "        vertical-align: top;\n",
       "    }\n",
       "\n",
       "    .dataframe thead th {\n",
       "        text-align: right;\n",
       "    }\n",
       "</style>\n",
       "<table border=\"1\" class=\"dataframe\">\n",
       "  <thead>\n",
       "    <tr style=\"text-align: right;\">\n",
       "      <th></th>\n",
       "      <th>회원번호</th>\n",
       "      <th>조합원상태</th>\n",
       "      <th>주소-구</th>\n",
       "      <th>주소-동</th>\n",
       "      <th>성별</th>\n",
       "      <th>연령</th>\n",
       "      <th>연령대</th>\n",
       "      <th>총구매금액</th>\n",
       "      <th>총구매수량</th>\n",
       "      <th>1회방문시구매금액(평균)</th>\n",
       "      <th>배송서비스신청여부</th>\n",
       "      <th>모바일알람여부</th>\n",
       "      <th>Gold_member</th>\n",
       "    </tr>\n",
       "  </thead>\n",
       "  <tbody>\n",
       "    <tr>\n",
       "      <th>0</th>\n",
       "      <td>272369856</td>\n",
       "      <td>정상회원</td>\n",
       "      <td>수지구</td>\n",
       "      <td>풍덕천동</td>\n",
       "      <td>여</td>\n",
       "      <td>45.0</td>\n",
       "      <td>40대</td>\n",
       "      <td>5733884</td>\n",
       "      <td>546.5</td>\n",
       "      <td>47782</td>\n",
       "      <td>미신청</td>\n",
       "      <td>수신</td>\n",
       "      <td>VIP</td>\n",
       "    </tr>\n",
       "    <tr>\n",
       "      <th>1</th>\n",
       "      <td>1506656256</td>\n",
       "      <td>정상회원</td>\n",
       "      <td>수지구</td>\n",
       "      <td>풍덕천동</td>\n",
       "      <td>여</td>\n",
       "      <td>36.0</td>\n",
       "      <td>30대이하</td>\n",
       "      <td>673414</td>\n",
       "      <td>90.0</td>\n",
       "      <td>35443</td>\n",
       "      <td>미신청</td>\n",
       "      <td>.</td>\n",
       "      <td>normal</td>\n",
       "    </tr>\n",
       "    <tr>\n",
       "      <th>2</th>\n",
       "      <td>1476143616</td>\n",
       "      <td>정상회원</td>\n",
       "      <td>수지구</td>\n",
       "      <td>풍덕천동</td>\n",
       "      <td>여</td>\n",
       "      <td>34.0</td>\n",
       "      <td>30대이하</td>\n",
       "      <td>655919</td>\n",
       "      <td>66.0</td>\n",
       "      <td>46851</td>\n",
       "      <td>미신청</td>\n",
       "      <td>.</td>\n",
       "      <td>normal</td>\n",
       "    </tr>\n",
       "    <tr>\n",
       "      <th>3</th>\n",
       "      <td>716128320</td>\n",
       "      <td>정상회원</td>\n",
       "      <td>수지구</td>\n",
       "      <td>풍덕천동</td>\n",
       "      <td>여</td>\n",
       "      <td>51.0</td>\n",
       "      <td>50대</td>\n",
       "      <td>2984534</td>\n",
       "      <td>252.1</td>\n",
       "      <td>48138</td>\n",
       "      <td>미신청</td>\n",
       "      <td>.</td>\n",
       "      <td>normal</td>\n",
       "    </tr>\n",
       "    <tr>\n",
       "      <th>4</th>\n",
       "      <td>743192512</td>\n",
       "      <td>정상회원</td>\n",
       "      <td>수지구</td>\n",
       "      <td>성복동</td>\n",
       "      <td>여</td>\n",
       "      <td>51.0</td>\n",
       "      <td>50대</td>\n",
       "      <td>1901488</td>\n",
       "      <td>152.0</td>\n",
       "      <td>158457</td>\n",
       "      <td>신청</td>\n",
       "      <td>.</td>\n",
       "      <td>normal</td>\n",
       "    </tr>\n",
       "  </tbody>\n",
       "</table>\n",
       "</div>"
      ],
      "text/plain": [
       "         회원번호 조합원상태 주소-구  주소-동 성별    연령    연령대    총구매금액  총구매수량  1회방문시구매금액(평균)  \\\n",
       "0   272369856  정상회원  수지구  풍덕천동  여  45.0    40대  5733884  546.5          47782   \n",
       "1  1506656256  정상회원  수지구  풍덕천동  여  36.0  30대이하   673414   90.0          35443   \n",
       "2  1476143616  정상회원  수지구  풍덕천동  여  34.0  30대이하   655919   66.0          46851   \n",
       "3   716128320  정상회원  수지구  풍덕천동  여  51.0    50대  2984534  252.1          48138   \n",
       "4   743192512  정상회원  수지구   성복동  여  51.0    50대  1901488  152.0         158457   \n",
       "\n",
       "  배송서비스신청여부 모바일알람여부 Gold_member  \n",
       "0       미신청      수신         VIP  \n",
       "1       미신청       .      normal  \n",
       "2       미신청       .      normal  \n",
       "3       미신청       .      normal  \n",
       "4        신청       .      normal  "
      ]
     },
     "execution_count": 6,
     "metadata": {},
     "output_type": "execute_result"
    }
   ],
   "source": [
    "df1.head() # 상위 5개"
   ]
  },
  {
   "cell_type": "markdown",
   "id": "f6066cba",
   "metadata": {},
   "source": [
    "### 🔵 데이터 기술 통계 분석"
   ]
  },
  {
   "cell_type": "code",
   "execution_count": 7,
   "id": "3b3c18df",
   "metadata": {},
   "outputs": [
    {
     "data": {
      "text/plain": [
       "966397.3017333947"
      ]
     },
     "execution_count": 7,
     "metadata": {},
     "output_type": "execute_result"
    }
   ],
   "source": [
    "# 평균 확인\n",
    "df1['총구매금액'].mean()"
   ]
  },
  {
   "cell_type": "code",
   "execution_count": 8,
   "id": "0ef89f52",
   "metadata": {},
   "outputs": [
    {
     "data": {
      "text/plain": [
       "287354.0"
      ]
     },
     "execution_count": 8,
     "metadata": {},
     "output_type": "execute_result"
    }
   ],
   "source": [
    "# 중앙값 확인\n",
    "df1['총구매금액'].median()"
   ]
  },
  {
   "cell_type": "code",
   "execution_count": 13,
   "id": "0bf86031",
   "metadata": {},
   "outputs": [
    {
     "data": {
      "text/plain": [
       "-8615"
      ]
     },
     "execution_count": 13,
     "metadata": {},
     "output_type": "execute_result"
    }
   ],
   "source": [
    "# 최소값\n",
    "df1['총구매금액'].min()"
   ]
  },
  {
   "cell_type": "code",
   "execution_count": 12,
   "id": "1c6ad4b5",
   "metadata": {},
   "outputs": [
    {
     "data": {
      "text/plain": [
       "24986439"
      ]
     },
     "execution_count": 12,
     "metadata": {},
     "output_type": "execute_result"
    }
   ],
   "source": [
    "# 최대값\n",
    "df1['총구매금액'].max()"
   ]
  },
  {
   "cell_type": "code",
   "execution_count": null,
   "id": "e753ec00",
   "metadata": {},
   "outputs": [],
   "source": []
  },
  {
   "cell_type": "code",
   "execution_count": null,
   "id": "27c0754e",
   "metadata": {},
   "outputs": [],
   "source": []
  },
  {
   "cell_type": "code",
   "execution_count": null,
   "id": "d8697070",
   "metadata": {},
   "outputs": [],
   "source": []
  },
  {
   "cell_type": "code",
   "execution_count": null,
   "id": "68f0555c",
   "metadata": {},
   "outputs": [],
   "source": []
  },
  {
   "cell_type": "code",
   "execution_count": null,
   "id": "04147686",
   "metadata": {},
   "outputs": [],
   "source": []
  },
  {
   "cell_type": "code",
   "execution_count": null,
   "id": "97b21a6b",
   "metadata": {},
   "outputs": [],
   "source": []
  },
  {
   "cell_type": "code",
   "execution_count": null,
   "id": "f7e575ed",
   "metadata": {},
   "outputs": [],
   "source": []
  }
 ],
 "metadata": {
  "kernelspec": {
   "display_name": "Python 3 (ipykernel)",
   "language": "python",
   "name": "python3"
  },
  "language_info": {
   "codemirror_mode": {
    "name": "ipython",
    "version": 3
   },
   "file_extension": ".py",
   "mimetype": "text/x-python",
   "name": "python",
   "nbconvert_exporter": "python",
   "pygments_lexer": "ipython3",
   "version": "3.10.9"
  }
 },
 "nbformat": 4,
 "nbformat_minor": 5
}
